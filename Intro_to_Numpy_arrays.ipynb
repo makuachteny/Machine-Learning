{
 "cells": [
  {
   "cell_type": "markdown",
   "metadata": {},
   "source": [
    "## Numpy\n",
    "\n",
    "Is the main package for scientific computing in Python. It performs a wide variety of advance mathematical operations with high quality."
   ]
  },
  {
   "cell_type": "code",
   "execution_count": 52,
   "metadata": {},
   "outputs": [],
   "source": [
    "import numpy as np"
   ]
  },
  {
   "cell_type": "markdown",
   "metadata": {},
   "source": [
    "The array object in Numpy is called `ndarray`  meaning 'n-dimensional array'\n",
    "\n",
    "One of the common array type is: ('1-D'). A 1-D array represents a standard kust if values entirely in one dimension.\n",
    "\n",
    "`NB: all the elements within the array are of the same type`"
   ]
  },
  {
   "cell_type": "code",
   "execution_count": 53,
   "metadata": {},
   "outputs": [
    {
     "name": "stdout",
     "output_type": "stream",
     "text": [
      "[10 12]\n"
     ]
    }
   ],
   "source": [
    "one_dimensional_arr = np.array([10, 12])\n",
    "print(one_dimensional_arr)"
   ]
  },
  {
   "cell_type": "markdown",
   "metadata": {},
   "source": [
    "### Numpy arrays:\n",
    "One can create a 1-D array by simply using the function `array ()` which takes in a list of values as an argument and returns a 1-D."
   ]
  },
  {
   "cell_type": "code",
   "execution_count": 54,
   "metadata": {},
   "outputs": [
    {
     "name": "stdout",
     "output_type": "stream",
     "text": [
      "[1 2 3]\n"
     ]
    }
   ],
   "source": [
    "# Create and print a Numpy array 'a' containing elements 1, 2, 3.\n",
    "\n",
    "a = np.array([1, 2, 3])\n",
    "print(a)"
   ]
  },
  {
   "cell_type": "markdown",
   "metadata": {},
   "source": [
    "Arrays can also be implemented using `np.arange()`. This function will return an array of evenly spaced values within a given interval.\n",
    "\n",
    "`NB: shift+tab : Is a powerful feature in Jupyter Notebook that allows you to access the documentation of any function`"
   ]
  },
  {
   "cell_type": "code",
   "execution_count": 55,
   "metadata": {},
   "outputs": [
    {
     "name": "stdout",
     "output_type": "stream",
     "text": [
      "[0 1 2]\n"
     ]
    }
   ],
   "source": [
    "# Create an array with 3 integers, starting from the default integer 0.\n",
    "\n",
    "b = np.arange(3)\n",
    "print(b)    \n"
   ]
  },
  {
   "cell_type": "code",
   "execution_count": 56,
   "metadata": {},
   "outputs": [
    {
     "name": "stdout",
     "output_type": "stream",
     "text": [
      "[ 1  4  7 10 13 16 19]\n"
     ]
    }
   ],
   "source": [
    "# Create an array that starts from the integer 1, ends at 20, incremented by 3. \n",
    "\n",
    "b = np.arange(1, 20, 3)\n",
    "\n",
    "print(b)"
   ]
  },
  {
   "cell_type": "markdown",
   "metadata": {},
   "source": [
    "`np.linspace()` allows you to create evenly space values in the intervals\n",
    "\n",
    "The default types of data type from the `np.linspace()` function are floats because it is a floating point `(np.float64)`\n",
    "\n",
    "`NB:` You can easily specify your data type using `dtype`"
   ]
  },
  {
   "cell_type": "code",
   "execution_count": 57,
   "metadata": {},
   "outputs": [
    {
     "name": "stdout",
     "output_type": "stream",
     "text": [
      "[  0  25  50  75 100]\n"
     ]
    }
   ],
   "source": [
    "line_space_arr = np. linspace(0, 100, 5, dtype=int)\n",
    "\n",
    "print(line_space_arr)"
   ]
  },
  {
   "cell_type": "code",
   "execution_count": 58,
   "metadata": {},
   "outputs": [
    {
     "name": "stdout",
     "output_type": "stream",
     "text": [
      "['Welcome to Math for ML!']\n",
      "<U23\n"
     ]
    }
   ],
   "source": [
    "char_arr = np.array(['Welcome to Math for ML!'])\n",
    "print(char_arr)\n",
    "print(char_arr.dtype)  # Prints the data type of the array which is a 23-character(23) unicode string(u) on a little endian architecture(<)"
   ]
  },
  {
   "cell_type": "markdown",
   "metadata": {},
   "source": [
    "## More on NumPy arrays\n",
    "\n",
    "One of the advantages of using NumPy is that you can easily create arrays with built-in functions such as: \n",
    "\n",
    "- `np.ones()` - Returns a new array setting values to one.\n",
    "- `np.zeros()` - Returns a new array setting values to zero.\n",
    "- `np.empty()` - Returns a new uninitialized array. \n",
    "- `np.random.rand()` - Returns a new array with values chosen at random."
   ]
  },
  {
   "cell_type": "markdown",
   "metadata": {},
   "source": [
    "## Multidimensional Arrays\n",
    "- It has more that one column."
   ]
  },
  {
   "cell_type": "code",
   "execution_count": 59,
   "metadata": {},
   "outputs": [
    {
     "name": "stdout",
     "output_type": "stream",
     "text": [
      "[[1 2 3]\n",
      " [4 5 6]]\n"
     ]
    }
   ],
   "source": [
    "# Creare a 2 dimensional array(2-D)\n",
    "\n",
    "two_dim_arr = np.array([[1, 2, 3], [4, 5, 6]])\n",
    "print(two_dim_arr)"
   ]
  },
  {
   "cell_type": "markdown",
   "metadata": {},
   "source": [
    "An alternative way to crea a multidimensional array is by reshaping the initial 2-D array. Using `np.reshape()` you can rearrange elements of the previous array into a new shape."
   ]
  },
  {
   "cell_type": "code",
   "execution_count": 60,
   "metadata": {},
   "outputs": [
    {
     "name": "stdout",
     "output_type": "stream",
     "text": [
      "[[1 2 3]\n",
      " [4 5 6]]\n"
     ]
    }
   ],
   "source": [
    "# 1-D array\n",
    "\n",
    "one_dim_arr = np.array([1, 2, 3, 4, 5, 6])\n",
    "\n",
    "# Multidimensional array using reshape() method\n",
    "\n",
    "multi_dim_arr = np.reshape(one_dim_arr, (2, 3))\n",
    "\n",
    "print(multi_dim_arr)"
   ]
  },
  {
   "cell_type": "markdown",
   "metadata": {},
   "source": [
    "## Finding size, shape and dimension\n",
    "\n",
    "The following attributes of the `ndarray` can be access as follow: \n",
    "\n",
    "- `ndarray.ndim` - stores the number dimensions of the array.\n",
    "- `ndarray.shape` - Stores the shape of the array. Each number in the tuple denotes the lengths of each corresponding dimension\n",
    "- `ndarray.size` - Stores the number of elements in the array."
   ]
  },
  {
   "cell_type": "code",
   "execution_count": 61,
   "metadata": {},
   "outputs": [
    {
     "data": {
      "text/plain": [
       "2"
      ]
     },
     "execution_count": 61,
     "metadata": {},
     "output_type": "execute_result"
    }
   ],
   "source": [
    "# Dimension of the 2-D array multi_dim_arr\n",
    "\n",
    "multi_dim_arr.ndim"
   ]
  },
  {
   "cell_type": "code",
   "execution_count": 62,
   "metadata": {},
   "outputs": [
    {
     "data": {
      "text/plain": [
       "(2, 3)"
      ]
     },
     "execution_count": 62,
     "metadata": {},
     "output_type": "execute_result"
    }
   ],
   "source": [
    "# Shape of the 2-D array multi_dim_arr\n",
    "\n",
    "multi_dim_arr.shape"
   ]
  },
  {
   "cell_type": "code",
   "execution_count": 63,
   "metadata": {},
   "outputs": [
    {
     "data": {
      "text/plain": [
       "6"
      ]
     },
     "execution_count": 63,
     "metadata": {},
     "output_type": "execute_result"
    }
   ],
   "source": [
    "# Size of the array multi_dim_arr\n",
    "# Returns total number of elements in the array\n",
    "\n",
    "multi_dim_arr.size\n"
   ]
  },
  {
   "cell_type": "markdown",
   "metadata": {},
   "source": [
    "3- Array math operations\n",
    "\n",
    "NumPy allows you to perform elementwise addtion, substraction, multiplication and division for both 1-D and multidimensional arrays.\n",
    "\n",
    "- The operations are performed using math symbol for each '+','-' and '*'\n",
    "\n",
    "`NB: Addition of Python lists works completely differently as it would append the lists, thus making a longer list, in addition substraction and multiplication of Python lists do not work`"
   ]
  },
  {
   "cell_type": "code",
   "execution_count": 64,
   "metadata": {},
   "outputs": [
    {
     "name": "stdout",
     "output_type": "stream",
     "text": [
      "[ 3  7 11]\n",
      "[1 1 1]\n",
      "[ 2 12 30]\n"
     ]
    }
   ],
   "source": [
    "arr_1 = np.array([2, 4, 6])\n",
    "arr_2 = np.array([1, 3, 5])\n",
    "\n",
    "# adding two 1-D arrays\n",
    "\n",
    "addtion = arr_1 + arr_2\n",
    "\n",
    "print(addtion)\n",
    "\n",
    "# Subtracting two 1-D arrays\n",
    "\n",
    "subtraction = arr_1 - arr_2\n",
    "\n",
    "print(subtraction)\n",
    "\n",
    "# Multiplying two 1-D arrays\n",
    "\n",
    "multiplication = arr_1 * arr_2\n",
    "\n",
    "print(multiplication)"
   ]
  },
  {
   "cell_type": "markdown",
   "metadata": {},
   "source": [
    "## Multiplying vector with a scalar(braodcasting)\n",
    "\n",
    "- is the operations specifically on arrays of different shape"
   ]
  },
  {
   "cell_type": "code",
   "execution_count": 65,
   "metadata": {},
   "outputs": [
    {
     "data": {
      "text/plain": [
       "array([1.6, 3.2])"
      ]
     },
     "execution_count": 65,
     "metadata": {},
     "output_type": "execute_result"
    }
   ],
   "source": [
    "vector = np.array([1, 2])\n",
    "\n",
    "vector * 1.6"
   ]
  },
  {
   "cell_type": "markdown",
   "metadata": {},
   "source": [
    "## Indexing and Slicing\n",
    "\n",
    "- Indexing is very useful as it allows you to select specific elements from an array. \n",
    "- It also lets you select entire rows/columns or planes as you'll see in future assignments for multidimensional arrays."
   ]
  },
  {
   "cell_type": "code",
   "execution_count": 66,
   "metadata": {},
   "outputs": [
    {
     "name": "stdout",
     "output_type": "stream",
     "text": [
      "3\n"
     ]
    }
   ],
   "source": [
    "# Select the third element of the array.\n",
    "\n",
    "a = ([1, 2, 3, 4, 5])\n",
    "\n",
    "print(a[2])"
   ]
  },
  {
   "cell_type": "markdown",
   "metadata": {},
   "source": [
    "NB: For multidimensional arrays of shape `n`, to index a specific element, you must input `n` indices, one for each dimension"
   ]
  },
  {
   "cell_type": "code",
   "execution_count": 67,
   "metadata": {},
   "outputs": [
    {
     "name": "stdout",
     "output_type": "stream",
     "text": [
      "8\n"
     ]
    }
   ],
   "source": [
    "# Indexing on a 2-D array\n",
    "\n",
    "two_dim_arr = np.array([[1, 2, 3], [4, 5, 6],\n",
    "[7, 8, 9]])\n",
    "\n",
    "# Select element number 8 from the 2-D array using indices i, j.\n",
    "\n",
    "print(two_dim_arr[2, 1])"
   ]
  },
  {
   "cell_type": "markdown",
   "metadata": {},
   "source": [
    "### Slicing\n",
    "\n",
    "- Gives you a sublist of elements that you specify from the array.\n",
    "\n",
    "- The slice notation specifies a start and end value, and copies the list from start up to but not including the end(non-exclusive).\n",
    "\n",
    "The syntax is \n",
    "`array[start:end:step]`\n",
    "\n",
    "if no value is passed to start, it is assumed `start = 0`, if no values is passed to end, it is assumed that `end = length of array - 1` and if no value is passed to step, it is assumed `step = 1`"
   ]
  },
  {
   "cell_type": "code",
   "execution_count": 68,
   "metadata": {},
   "outputs": [
    {
     "name": "stdout",
     "output_type": "stream",
     "text": [
      "[2, 3, 4]\n"
     ]
    }
   ],
   "source": [
    "# Slice the array a to get the array [2, 3, 4]\n",
    "\n",
    "slice_arr = a[1:4]\n",
    "print(slice_arr)\n"
   ]
  },
  {
   "cell_type": "code",
   "execution_count": 69,
   "metadata": {},
   "outputs": [
    {
     "name": "stdout",
     "output_type": "stream",
     "text": [
      "[1, 2, 3]\n"
     ]
    }
   ],
   "source": [
    "# Slice the array a to get the array [1,2,3]\n",
    "sliced_arr = a[:3]\n",
    "print(sliced_arr)"
   ]
  },
  {
   "cell_type": "code",
   "execution_count": 70,
   "metadata": {},
   "outputs": [
    {
     "name": "stdout",
     "output_type": "stream",
     "text": [
      "[3, 4, 5]\n"
     ]
    }
   ],
   "source": [
    "# Slice the array a to get the array [3,4,5]\n",
    "sliced_arr = a[2:]\n",
    "print(sliced_arr)"
   ]
  },
  {
   "cell_type": "code",
   "execution_count": 71,
   "metadata": {},
   "outputs": [
    {
     "name": "stdout",
     "output_type": "stream",
     "text": [
      "[1, 3, 5]\n"
     ]
    }
   ],
   "source": [
    "# Slice the array a to get the array [1,3,5]\n",
    "sliced_arr = a[::2]\n",
    "print(sliced_arr)"
   ]
  },
  {
   "cell_type": "code",
   "execution_count": 72,
   "metadata": {},
   "outputs": [
    {
     "name": "stdout",
     "output_type": "stream",
     "text": [
      "True\n"
     ]
    }
   ],
   "source": [
    "# Note that a == a[:] == a[::]\n",
    "print(a == a[:] == a[::])"
   ]
  },
  {
   "cell_type": "code",
   "execution_count": 73,
   "metadata": {},
   "outputs": [
    {
     "name": "stdout",
     "output_type": "stream",
     "text": [
      "[[1 2 3]\n",
      " [4 5 6]]\n"
     ]
    }
   ],
   "source": [
    "# Slice the two_dim array to get the first two rows\n",
    "two_dim = np.array([[1, 2, 3], [4, 5, 6], [7, 8, 9]])\n",
    "\n",
    "sliced_arr_1 = two_dim[0:2]\n",
    "\n",
    "print(sliced_arr_1)"
   ]
  },
  {
   "cell_type": "code",
   "execution_count": 74,
   "metadata": {},
   "outputs": [
    {
     "name": "stdout",
     "output_type": "stream",
     "text": [
      "[[4 5 6]\n",
      " [7 8 9]]\n"
     ]
    }
   ],
   "source": [
    "# Similarily, slice the two_dim array to get the last two rows\n",
    "sliced_two_dim_rows = two_dim[1:3]\n",
    "print(sliced_two_dim_rows)"
   ]
  },
  {
   "cell_type": "code",
   "execution_count": 75,
   "metadata": {},
   "outputs": [
    {
     "name": "stdout",
     "output_type": "stream",
     "text": [
      "[2 5 8]\n"
     ]
    }
   ],
   "source": [
    "sliced_two_dim_cols = two_dim[:,1]\n",
    "print(sliced_two_dim_cols)"
   ]
  },
  {
   "cell_type": "markdown",
   "metadata": {},
   "source": [
    "### Stacking #\n",
    "- Is a feature of NumPy that leads to increased customization of arrays. It means to join two or more arrays, either horizontally or vertically, meaning that it is done along a new axis.\n",
    "\n",
    "\n",
    "- `np.vstack()` - stacks vertically\n",
    "- `np.hstack()` - stacks horizontally\n",
    "- `np.hsplit()` - splits an array into several smaller arrays"
   ]
  },
  {
   "cell_type": "code",
   "execution_count": 76,
   "metadata": {},
   "outputs": [
    {
     "name": "stdout",
     "output_type": "stream",
     "text": [
      "a1: \n",
      "[[1 1]\n",
      " [2 2]]\n",
      "a2: \n",
      "[[3 3]\n",
      " [4 4]]\n"
     ]
    }
   ],
   "source": [
    "a1 = np.array([[1,1],[2,2]])\n",
    "\n",
    "a2 = np.array([[3,3],[4,4]])\n",
    "\n",
    "print(f'a1: \\n{a1}')\n",
    "print(f'a2: \\n{a2}')    "
   ]
  },
  {
   "cell_type": "code",
   "execution_count": 77,
   "metadata": {},
   "outputs": [
    {
     "name": "stdout",
     "output_type": "stream",
     "text": [
      "[[1 1]\n",
      " [2 2]\n",
      " [3 3]\n",
      " [4 4]]\n"
     ]
    }
   ],
   "source": [
    "# Stack the arrays vertically\n",
    "\n",
    "vert_stack = np.vstack((a1, a2))\n",
    "\n",
    "print(vert_stack)"
   ]
  },
  {
   "cell_type": "code",
   "execution_count": 78,
   "metadata": {},
   "outputs": [
    {
     "name": "stdout",
     "output_type": "stream",
     "text": [
      "[[1 1 3 3]\n",
      " [2 2 4 4]]\n"
     ]
    }
   ],
   "source": [
    "# Stack the arrays horizontally\n",
    "\n",
    "hor_stack = np.hstack((a1, a2))\n",
    "\n",
    "print(hor_stack)"
   ]
  }
 ],
 "metadata": {
  "kernelspec": {
   "display_name": "Python 3",
   "language": "python",
   "name": "python3"
  },
  "language_info": {
   "codemirror_mode": {
    "name": "ipython",
    "version": 3
   },
   "file_extension": ".py",
   "mimetype": "text/x-python",
   "name": "python",
   "nbconvert_exporter": "python",
   "pygments_lexer": "ipython3",
   "version": "3.11.4"
  }
 },
 "nbformat": 4,
 "nbformat_minor": 2
}
